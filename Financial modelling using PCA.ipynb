{
 "cells": [
  {
   "cell_type": "code",
   "execution_count": 6,
   "metadata": {},
   "outputs": [
    {
     "name": "stdout",
     "output_type": "stream",
     "text": [
      "zsh:fg:1: no job control in this shell.\n"
     ]
    }
   ],
   "source": [
    "!%pip install yfinance"
   ]
  },
  {
   "cell_type": "markdown",
   "metadata": {},
   "source": [
    "IMPORT LIBRARIES"
   ]
  },
  {
   "cell_type": "code",
   "execution_count": 8,
   "metadata": {},
   "outputs": [],
   "source": [
    "import pandas as pd\n",
    "import yfinance as yf\n",
    "import numpy as np\n",
    "import statsmodels.api as sm\n",
    "from sklearn.preprocessing import StandardScaler\n",
    "from sklearn.linear_model import LinearRegression"
   ]
  },
  {
   "cell_type": "markdown",
   "metadata": {},
   "source": [
    " Download 5 years historical daily price data for the Johannesburg Stock Exchange index, for four large companies of your choice on the JSE, as well as another financial variable of your choice. From the prices determine the daily returns.\n",
    "Build a factor model for these returns. Give both the model with the factor loadings and the components (factors) that you include in the model."
   ]
  },
  {
   "cell_type": "code",
   "execution_count": 9,
   "metadata": {},
   "outputs": [
    {
     "name": "stderr",
     "output_type": "stream",
     "text": [
      "[*********************100%%**********************]  5 of 5 completed\n"
     ]
    },
    {
     "name": "stdout",
     "output_type": "stream",
     "text": [
      "Ticker           ABSP.JO        MTN.JO        NED.JO        VOD.JO   \n",
      "Date                                                                 \n",
      "2018-02-01  38752.707031  10544.688477  18686.710938  11809.777344  \\\n",
      "2018-02-02  38754.441406  10433.271484  18614.085938  11656.468750   \n",
      "2018-02-05  38810.457031   9975.672852  18035.216797  11374.575195   \n",
      "2018-02-06  38752.707031   9812.529297  18026.048828  11250.938477   \n",
      "2018-02-07  38752.707031  10252.619141  18955.347656  11371.042969   \n",
      "2018-02-08  38839.335938  10083.109375  18968.740234  11381.639648   \n",
      "2018-02-09  38781.582031   9927.127930  19389.675781  11202.189453   \n",
      "2018-02-12  38783.312500  10027.401367  19389.675781  11479.136719   \n",
      "2018-02-13  38868.207031  10332.204102  19558.187500  11525.766602   \n",
      "2018-02-14  38752.707031  10226.358398  19460.888672  11684.726562   \n",
      "\n",
      "Ticker            ZAR=X  \n",
      "Date                     \n",
      "2018-02-01  1183.839989  \n",
      "2018-02-02  1183.619976  \n",
      "2018-02-05  1206.077003  \n",
      "2018-02-06  1210.490036  \n",
      "2018-02-07  1192.879963  \n",
      "2018-02-08  1206.017971  \n",
      "2018-02-09  1214.496994  \n",
      "2018-02-12  1202.052021  \n",
      "2018-02-13  1189.270020  \n",
      "2018-02-14  1195.919991  \n"
     ]
    },
    {
     "data": {
      "text/plain": [
       "(1303, 5)"
      ]
     },
     "execution_count": 9,
     "metadata": {},
     "output_type": "execute_result"
    }
   ],
   "source": [
    "stocks_list =['MTN.JO','ABSP.JO','NED.JO','VOD.JO',\"ZAR=X\"]\n",
    "#Get Data from Yahoo Finance\n",
    "data=yf.download(stocks_list,start='2018-2-01', end='2023-01-31')['Adj Close']\n",
    "data['ZAR=X'] = data['ZAR=X'] *100 #convert exchange rate to cents\n",
    "print(data.head(10))\n",
    "data.shape"
   ]
  }
 ],
 "metadata": {
  "kernelspec": {
   "display_name": "Python 3",
   "language": "python",
   "name": "python3"
  },
  "language_info": {
   "codemirror_mode": {
    "name": "ipython",
    "version": 3
   },
   "file_extension": ".py",
   "mimetype": "text/x-python",
   "name": "python",
   "nbconvert_exporter": "python",
   "pygments_lexer": "ipython3",
   "version": "3.11.3"
  },
  "orig_nbformat": 4
 },
 "nbformat": 4,
 "nbformat_minor": 2
}
