{
 "cells": [
  {
   "cell_type": "code",
   "execution_count": 6,
   "metadata": {},
   "outputs": [
    {
     "name": "stdout",
     "output_type": "stream",
     "text": [
      "zsh:fg:1: no job control in this shell.\n"
     ]
    }
   ],
   "source": [
    "!%pip install yfinance"
   ]
  },
  {
   "cell_type": "markdown",
   "metadata": {},
   "source": [
    "# IMPORT LIBRARIES"
   ]
  },
  {
   "cell_type": "code",
   "execution_count": 8,
   "metadata": {},
   "outputs": [],
   "source": [
    "import pandas as pd\n",
    "import yfinance as yf\n",
    "import numpy as np\n",
    "import statsmodels.api as sm\n",
    "from sklearn.preprocessing import StandardScaler\n",
    "from sklearn.linear_model import LinearRegression"
   ]
  },
  {
   "cell_type": "markdown",
   "metadata": {},
   "source": [
    " Download 5 years historical daily price data for the Johannesburg Stock Exchange index, for four large companies of your choice on the JSE, as well as another financial variable of your choice. From the prices determine the daily returns.\n",
    "Build a factor model for these returns. Give both the model with the factor loadings and the components (factors) that you include in the model."
   ]
  },
  {
   "cell_type": "code",
   "execution_count": 9,
   "metadata": {},
   "outputs": [
    {
     "name": "stderr",
     "output_type": "stream",
     "text": [
      "[*********************100%%**********************]  5 of 5 completed\n"
     ]
    },
    {
     "name": "stdout",
     "output_type": "stream",
     "text": [
      "Ticker           ABSP.JO        MTN.JO        NED.JO        VOD.JO   \n",
      "Date                                                                 \n",
      "2018-02-01  38752.707031  10544.688477  18686.710938  11809.777344  \\\n",
      "2018-02-02  38754.441406  10433.271484  18614.085938  11656.468750   \n",
      "2018-02-05  38810.457031   9975.672852  18035.216797  11374.575195   \n",
      "2018-02-06  38752.707031   9812.529297  18026.048828  11250.938477   \n",
      "2018-02-07  38752.707031  10252.619141  18955.347656  11371.042969   \n",
      "2018-02-08  38839.335938  10083.109375  18968.740234  11381.639648   \n",
      "2018-02-09  38781.582031   9927.127930  19389.675781  11202.189453   \n",
      "2018-02-12  38783.312500  10027.401367  19389.675781  11479.136719   \n",
      "2018-02-13  38868.207031  10332.204102  19558.187500  11525.766602   \n",
      "2018-02-14  38752.707031  10226.358398  19460.888672  11684.726562   \n",
      "\n",
      "Ticker            ZAR=X  \n",
      "Date                     \n",
      "2018-02-01  1183.839989  \n",
      "2018-02-02  1183.619976  \n",
      "2018-02-05  1206.077003  \n",
      "2018-02-06  1210.490036  \n",
      "2018-02-07  1192.879963  \n",
      "2018-02-08  1206.017971  \n",
      "2018-02-09  1214.496994  \n",
      "2018-02-12  1202.052021  \n",
      "2018-02-13  1189.270020  \n",
      "2018-02-14  1195.919991  \n"
     ]
    },
    {
     "data": {
      "text/plain": [
       "(1303, 5)"
      ]
     },
     "execution_count": 9,
     "metadata": {},
     "output_type": "execute_result"
    }
   ],
   "source": [
    "stocks_list =['MTN.JO','ABSP.JO','NED.JO','VOD.JO',\"ZAR=X\"]\n",
    "#Get Data from Yahoo Finance\n",
    "data=yf.download(stocks_list,start='2018-2-01', end='2023-01-31')['Adj Close']\n",
    "data['ZAR=X'] = data['ZAR=X'] *100 #convert exchange rate to cents\n",
    "print(data.head(10))\n",
    "data.shape"
   ]
  },
  {
   "cell_type": "markdown",
   "metadata": {},
   "source": [
    "# ESTIMATE DAILY RETURNS"
   ]
  },
  {
   "cell_type": "code",
   "execution_count": 10,
   "metadata": {},
   "outputs": [
    {
     "data": {
      "text/html": [
       "<div>\n",
       "<style scoped>\n",
       "    .dataframe tbody tr th:only-of-type {\n",
       "        vertical-align: middle;\n",
       "    }\n",
       "\n",
       "    .dataframe tbody tr th {\n",
       "        vertical-align: top;\n",
       "    }\n",
       "\n",
       "    .dataframe thead th {\n",
       "        text-align: right;\n",
       "    }\n",
       "</style>\n",
       "<table border=\"1\" class=\"dataframe\">\n",
       "  <thead>\n",
       "    <tr style=\"text-align: right;\">\n",
       "      <th>Ticker</th>\n",
       "      <th>ABSP.JO</th>\n",
       "      <th>MTN.JO</th>\n",
       "      <th>NED.JO</th>\n",
       "      <th>VOD.JO</th>\n",
       "      <th>ZAR=X</th>\n",
       "    </tr>\n",
       "    <tr>\n",
       "      <th>Date</th>\n",
       "      <th></th>\n",
       "      <th></th>\n",
       "      <th></th>\n",
       "      <th></th>\n",
       "      <th></th>\n",
       "    </tr>\n",
       "  </thead>\n",
       "  <tbody>\n",
       "    <tr>\n",
       "      <th>2018-02-01</th>\n",
       "      <td>NaN</td>\n",
       "      <td>NaN</td>\n",
       "      <td>NaN</td>\n",
       "      <td>NaN</td>\n",
       "      <td>NaN</td>\n",
       "    </tr>\n",
       "    <tr>\n",
       "      <th>2018-02-02</th>\n",
       "      <td>0.000045</td>\n",
       "      <td>-0.010622</td>\n",
       "      <td>-0.003894</td>\n",
       "      <td>-0.013066</td>\n",
       "      <td>-0.000186</td>\n",
       "    </tr>\n",
       "    <tr>\n",
       "      <th>2018-02-05</th>\n",
       "      <td>0.001444</td>\n",
       "      <td>-0.044850</td>\n",
       "      <td>-0.031592</td>\n",
       "      <td>-0.024481</td>\n",
       "      <td>0.018795</td>\n",
       "    </tr>\n",
       "    <tr>\n",
       "      <th>2018-02-06</th>\n",
       "      <td>-0.001489</td>\n",
       "      <td>-0.016489</td>\n",
       "      <td>-0.000508</td>\n",
       "      <td>-0.010929</td>\n",
       "      <td>0.003652</td>\n",
       "    </tr>\n",
       "    <tr>\n",
       "      <th>2018-02-07</th>\n",
       "      <td>0.000000</td>\n",
       "      <td>0.043873</td>\n",
       "      <td>0.050268</td>\n",
       "      <td>0.010618</td>\n",
       "      <td>-0.014655</td>\n",
       "    </tr>\n",
       "  </tbody>\n",
       "</table>\n",
       "</div>"
      ],
      "text/plain": [
       "Ticker       ABSP.JO    MTN.JO    NED.JO    VOD.JO     ZAR=X\n",
       "Date                                                        \n",
       "2018-02-01       NaN       NaN       NaN       NaN       NaN\n",
       "2018-02-02  0.000045 -0.010622 -0.003894 -0.013066 -0.000186\n",
       "2018-02-05  0.001444 -0.044850 -0.031592 -0.024481  0.018795\n",
       "2018-02-06 -0.001489 -0.016489 -0.000508 -0.010929  0.003652\n",
       "2018-02-07  0.000000  0.043873  0.050268  0.010618 -0.014655"
      ]
     },
     "execution_count": 10,
     "metadata": {},
     "output_type": "execute_result"
    }
   ],
   "source": [
    "returns=np.log(data).diff() #daily returns\n",
    "returns.head()"
   ]
  },
  {
   "cell_type": "markdown",
   "metadata": {},
   "source": [
    "# DATA CLEANING"
   ]
  },
  {
   "cell_type": "code",
   "execution_count": 11,
   "metadata": {},
   "outputs": [
    {
     "data": {
      "text/html": [
       "<div>\n",
       "<style scoped>\n",
       "    .dataframe tbody tr th:only-of-type {\n",
       "        vertical-align: middle;\n",
       "    }\n",
       "\n",
       "    .dataframe tbody tr th {\n",
       "        vertical-align: top;\n",
       "    }\n",
       "\n",
       "    .dataframe thead th {\n",
       "        text-align: right;\n",
       "    }\n",
       "</style>\n",
       "<table border=\"1\" class=\"dataframe\">\n",
       "  <thead>\n",
       "    <tr style=\"text-align: right;\">\n",
       "      <th>Ticker</th>\n",
       "      <th>ABSP.JO</th>\n",
       "      <th>MTN.JO</th>\n",
       "      <th>NED.JO</th>\n",
       "      <th>VOD.JO</th>\n",
       "      <th>ZAR=X</th>\n",
       "    </tr>\n",
       "    <tr>\n",
       "      <th>Date</th>\n",
       "      <th></th>\n",
       "      <th></th>\n",
       "      <th></th>\n",
       "      <th></th>\n",
       "      <th></th>\n",
       "    </tr>\n",
       "  </thead>\n",
       "  <tbody>\n",
       "    <tr>\n",
       "      <th>2018-02-02</th>\n",
       "      <td>0.000045</td>\n",
       "      <td>-0.010622</td>\n",
       "      <td>-0.003894</td>\n",
       "      <td>-0.013066</td>\n",
       "      <td>-0.000186</td>\n",
       "    </tr>\n",
       "    <tr>\n",
       "      <th>2018-02-05</th>\n",
       "      <td>0.001444</td>\n",
       "      <td>-0.044850</td>\n",
       "      <td>-0.031592</td>\n",
       "      <td>-0.024481</td>\n",
       "      <td>0.018795</td>\n",
       "    </tr>\n",
       "    <tr>\n",
       "      <th>2018-02-06</th>\n",
       "      <td>-0.001489</td>\n",
       "      <td>-0.016489</td>\n",
       "      <td>-0.000508</td>\n",
       "      <td>-0.010929</td>\n",
       "      <td>0.003652</td>\n",
       "    </tr>\n",
       "    <tr>\n",
       "      <th>2018-02-07</th>\n",
       "      <td>0.000000</td>\n",
       "      <td>0.043873</td>\n",
       "      <td>0.050268</td>\n",
       "      <td>0.010618</td>\n",
       "      <td>-0.014655</td>\n",
       "    </tr>\n",
       "    <tr>\n",
       "      <th>2018-02-08</th>\n",
       "      <td>0.002233</td>\n",
       "      <td>-0.016672</td>\n",
       "      <td>0.000706</td>\n",
       "      <td>0.000931</td>\n",
       "      <td>0.010953</td>\n",
       "    </tr>\n",
       "    <tr>\n",
       "      <th>...</th>\n",
       "      <td>...</td>\n",
       "      <td>...</td>\n",
       "      <td>...</td>\n",
       "      <td>...</td>\n",
       "      <td>...</td>\n",
       "    </tr>\n",
       "    <tr>\n",
       "      <th>2023-01-24</th>\n",
       "      <td>-0.009180</td>\n",
       "      <td>0.006329</td>\n",
       "      <td>0.000622</td>\n",
       "      <td>0.008964</td>\n",
       "      <td>0.003545</td>\n",
       "    </tr>\n",
       "    <tr>\n",
       "      <th>2023-01-25</th>\n",
       "      <td>0.000035</td>\n",
       "      <td>0.006506</td>\n",
       "      <td>-0.006959</td>\n",
       "      <td>-0.005858</td>\n",
       "      <td>-0.008356</td>\n",
       "    </tr>\n",
       "    <tr>\n",
       "      <th>2023-01-26</th>\n",
       "      <td>0.040116</td>\n",
       "      <td>0.026240</td>\n",
       "      <td>0.014973</td>\n",
       "      <td>-0.008605</td>\n",
       "      <td>0.006173</td>\n",
       "    </tr>\n",
       "    <tr>\n",
       "      <th>2023-01-27</th>\n",
       "      <td>-0.039717</td>\n",
       "      <td>0.007830</td>\n",
       "      <td>0.005453</td>\n",
       "      <td>0.003041</td>\n",
       "      <td>0.002784</td>\n",
       "    </tr>\n",
       "    <tr>\n",
       "      <th>2023-01-30</th>\n",
       "      <td>0.005242</td>\n",
       "      <td>0.001392</td>\n",
       "      <td>0.001446</td>\n",
       "      <td>0.006135</td>\n",
       "      <td>0.001811</td>\n",
       "    </tr>\n",
       "  </tbody>\n",
       "</table>\n",
       "<p>1200 rows × 5 columns</p>\n",
       "</div>"
      ],
      "text/plain": [
       "Ticker       ABSP.JO    MTN.JO    NED.JO    VOD.JO     ZAR=X\n",
       "Date                                                        \n",
       "2018-02-02  0.000045 -0.010622 -0.003894 -0.013066 -0.000186\n",
       "2018-02-05  0.001444 -0.044850 -0.031592 -0.024481  0.018795\n",
       "2018-02-06 -0.001489 -0.016489 -0.000508 -0.010929  0.003652\n",
       "2018-02-07  0.000000  0.043873  0.050268  0.010618 -0.014655\n",
       "2018-02-08  0.002233 -0.016672  0.000706  0.000931  0.010953\n",
       "...              ...       ...       ...       ...       ...\n",
       "2023-01-24 -0.009180  0.006329  0.000622  0.008964  0.003545\n",
       "2023-01-25  0.000035  0.006506 -0.006959 -0.005858 -0.008356\n",
       "2023-01-26  0.040116  0.026240  0.014973 -0.008605  0.006173\n",
       "2023-01-27 -0.039717  0.007830  0.005453  0.003041  0.002784\n",
       "2023-01-30  0.005242  0.001392  0.001446  0.006135  0.001811\n",
       "\n",
       "[1200 rows x 5 columns]"
      ]
     },
     "execution_count": 11,
     "metadata": {},
     "output_type": "execute_result"
    }
   ],
   "source": [
    "#Drop rows with NaN values\n",
    "returns_cleaned = returns.dropna()\n",
    "returns_cleaned.shape\n",
    "returns_cleaned"
   ]
  },
  {
   "cell_type": "markdown",
   "metadata": {},
   "source": [
    "# MEAN RETURNS "
   ]
  },
  {
   "cell_type": "code",
   "execution_count": 12,
   "metadata": {},
   "outputs": [
    {
     "data": {
      "text/plain": [
       "Ticker\n",
       "ABSP.JO    0.000714\n",
       "MTN.JO     0.000199\n",
       "NED.JO     0.000090\n",
       "VOD.JO     0.000092\n",
       "ZAR=X      0.000193\n",
       "dtype: float64"
      ]
     },
     "execution_count": 12,
     "metadata": {},
     "output_type": "execute_result"
    }
   ],
   "source": [
    "#Calculate the mean returns for each stock\n",
    "# mean_returns = returns_cleaned.mean()\n",
    "mean_returns=np.mean(returns_cleaned, axis=0)\n",
    "mean_returns"
   ]
  },
  {
   "cell_type": "markdown",
   "metadata": {},
   "source": [
    "# CENTER DATA"
   ]
  },
  {
   "cell_type": "code",
   "execution_count": 13,
   "metadata": {},
   "outputs": [
    {
     "data": {
      "text/html": [
       "<div>\n",
       "<style scoped>\n",
       "    .dataframe tbody tr th:only-of-type {\n",
       "        vertical-align: middle;\n",
       "    }\n",
       "\n",
       "    .dataframe tbody tr th {\n",
       "        vertical-align: top;\n",
       "    }\n",
       "\n",
       "    .dataframe thead th {\n",
       "        text-align: right;\n",
       "    }\n",
       "</style>\n",
       "<table border=\"1\" class=\"dataframe\">\n",
       "  <thead>\n",
       "    <tr style=\"text-align: right;\">\n",
       "      <th>Ticker</th>\n",
       "      <th>ABSP.JO</th>\n",
       "      <th>MTN.JO</th>\n",
       "      <th>NED.JO</th>\n",
       "      <th>VOD.JO</th>\n",
       "      <th>ZAR=X</th>\n",
       "    </tr>\n",
       "    <tr>\n",
       "      <th>Date</th>\n",
       "      <th></th>\n",
       "      <th></th>\n",
       "      <th></th>\n",
       "      <th></th>\n",
       "      <th></th>\n",
       "    </tr>\n",
       "  </thead>\n",
       "  <tbody>\n",
       "    <tr>\n",
       "      <th>2018-02-02</th>\n",
       "      <td>-0.000670</td>\n",
       "      <td>-0.010822</td>\n",
       "      <td>-0.003984</td>\n",
       "      <td>-0.013158</td>\n",
       "      <td>-0.000379</td>\n",
       "    </tr>\n",
       "    <tr>\n",
       "      <th>2018-02-05</th>\n",
       "      <td>0.000730</td>\n",
       "      <td>-0.045050</td>\n",
       "      <td>-0.031682</td>\n",
       "      <td>-0.024572</td>\n",
       "      <td>0.018602</td>\n",
       "    </tr>\n",
       "    <tr>\n",
       "      <th>2018-02-06</th>\n",
       "      <td>-0.002204</td>\n",
       "      <td>-0.016689</td>\n",
       "      <td>-0.000599</td>\n",
       "      <td>-0.011021</td>\n",
       "      <td>0.003459</td>\n",
       "    </tr>\n",
       "    <tr>\n",
       "      <th>2018-02-07</th>\n",
       "      <td>-0.000714</td>\n",
       "      <td>0.043674</td>\n",
       "      <td>0.050178</td>\n",
       "      <td>0.010527</td>\n",
       "      <td>-0.014848</td>\n",
       "    </tr>\n",
       "    <tr>\n",
       "      <th>2018-02-08</th>\n",
       "      <td>0.001519</td>\n",
       "      <td>-0.016871</td>\n",
       "      <td>0.000616</td>\n",
       "      <td>0.000840</td>\n",
       "      <td>0.010760</td>\n",
       "    </tr>\n",
       "    <tr>\n",
       "      <th>...</th>\n",
       "      <td>...</td>\n",
       "      <td>...</td>\n",
       "      <td>...</td>\n",
       "      <td>...</td>\n",
       "      <td>...</td>\n",
       "    </tr>\n",
       "    <tr>\n",
       "      <th>2023-01-24</th>\n",
       "      <td>-0.009894</td>\n",
       "      <td>0.006130</td>\n",
       "      <td>0.000532</td>\n",
       "      <td>0.008872</td>\n",
       "      <td>0.003352</td>\n",
       "    </tr>\n",
       "    <tr>\n",
       "      <th>2023-01-25</th>\n",
       "      <td>-0.000679</td>\n",
       "      <td>0.006306</td>\n",
       "      <td>-0.007049</td>\n",
       "      <td>-0.005949</td>\n",
       "      <td>-0.008550</td>\n",
       "    </tr>\n",
       "    <tr>\n",
       "      <th>2023-01-26</th>\n",
       "      <td>0.039402</td>\n",
       "      <td>0.026040</td>\n",
       "      <td>0.014883</td>\n",
       "      <td>-0.008696</td>\n",
       "      <td>0.005980</td>\n",
       "    </tr>\n",
       "    <tr>\n",
       "      <th>2023-01-27</th>\n",
       "      <td>-0.040431</td>\n",
       "      <td>0.007631</td>\n",
       "      <td>0.005363</td>\n",
       "      <td>0.002949</td>\n",
       "      <td>0.002591</td>\n",
       "    </tr>\n",
       "    <tr>\n",
       "      <th>2023-01-30</th>\n",
       "      <td>0.004527</td>\n",
       "      <td>0.001193</td>\n",
       "      <td>0.001356</td>\n",
       "      <td>0.006044</td>\n",
       "      <td>0.001618</td>\n",
       "    </tr>\n",
       "  </tbody>\n",
       "</table>\n",
       "<p>1200 rows × 5 columns</p>\n",
       "</div>"
      ],
      "text/plain": [
       "Ticker       ABSP.JO    MTN.JO    NED.JO    VOD.JO     ZAR=X\n",
       "Date                                                        \n",
       "2018-02-02 -0.000670 -0.010822 -0.003984 -0.013158 -0.000379\n",
       "2018-02-05  0.000730 -0.045050 -0.031682 -0.024572  0.018602\n",
       "2018-02-06 -0.002204 -0.016689 -0.000599 -0.011021  0.003459\n",
       "2018-02-07 -0.000714  0.043674  0.050178  0.010527 -0.014848\n",
       "2018-02-08  0.001519 -0.016871  0.000616  0.000840  0.010760\n",
       "...              ...       ...       ...       ...       ...\n",
       "2023-01-24 -0.009894  0.006130  0.000532  0.008872  0.003352\n",
       "2023-01-25 -0.000679  0.006306 -0.007049 -0.005949 -0.008550\n",
       "2023-01-26  0.039402  0.026040  0.014883 -0.008696  0.005980\n",
       "2023-01-27 -0.040431  0.007631  0.005363  0.002949  0.002591\n",
       "2023-01-30  0.004527  0.001193  0.001356  0.006044  0.001618\n",
       "\n",
       "[1200 rows x 5 columns]"
      ]
     },
     "execution_count": 13,
     "metadata": {},
     "output_type": "execute_result"
    }
   ],
   "source": [
    "#Center the data by subtracting the mean returns\n",
    "centered_data = returns_cleaned - mean_returns\n",
    "centered_data"
   ]
  }
 ],
 "metadata": {
  "kernelspec": {
   "display_name": "Python 3",
   "language": "python",
   "name": "python3"
  },
  "language_info": {
   "codemirror_mode": {
    "name": "ipython",
    "version": 3
   },
   "file_extension": ".py",
   "mimetype": "text/x-python",
   "name": "python",
   "nbconvert_exporter": "python",
   "pygments_lexer": "ipython3",
   "version": "3.11.3"
  },
  "orig_nbformat": 4
 },
 "nbformat": 4,
 "nbformat_minor": 2
}
